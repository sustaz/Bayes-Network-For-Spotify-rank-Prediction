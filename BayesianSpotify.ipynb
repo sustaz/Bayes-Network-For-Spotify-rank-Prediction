{
  "nbformat": 4,
  "nbformat_minor": 0,
  "metadata": {
    "colab": {
      "name": "BayesianSpotify.ipynb",
      "provenance": [],
      "collapsed_sections": []
    },
    "kernelspec": {
      "name": "python3",
      "display_name": "Python 3"
    }
  },
  "cells": [
    {
      "cell_type": "markdown",
      "metadata": {
        "id": "p0YAzJGsJdHv"
      },
      "source": [
        "1.0 DATA PREPROCESSING"
      ]
    },
    {
      "cell_type": "code",
      "metadata": {
        "id": "B7FfECDq8xze",
        "colab": {
          "base_uri": "https://localhost:8080/"
        },
        "outputId": "b82fb4f9-0a00-4b27-fff6-fd8e00bfb389"
      },
      "source": [
        "!pip install pgmpy\n",
        "import pandas as pd\n",
        "import numpy as np\n",
        "import random\n",
        "from pgmpy.models import BayesianModel\n",
        "from pgmpy.estimators import *\n",
        "import networkx as nx\n",
        "import matplotlib.pyplot as plt\n",
        "from pgmpy.inference import VariableElimination"
      ],
      "execution_count": null,
      "outputs": [
        {
          "output_type": "stream",
          "text": [
            "Requirement already satisfied: pgmpy in /usr/local/lib/python3.7/dist-packages (0.1.14)\n",
            "Requirement already satisfied: scipy in /usr/local/lib/python3.7/dist-packages (from pgmpy) (1.4.1)\n",
            "Requirement already satisfied: scikit-learn in /usr/local/lib/python3.7/dist-packages (from pgmpy) (0.22.2.post1)\n",
            "Requirement already satisfied: joblib in /usr/local/lib/python3.7/dist-packages (from pgmpy) (1.0.1)\n",
            "Requirement already satisfied: torch in /usr/local/lib/python3.7/dist-packages (from pgmpy) (1.9.0+cu102)\n",
            "Requirement already satisfied: pandas in /usr/local/lib/python3.7/dist-packages (from pgmpy) (1.1.5)\n",
            "Requirement already satisfied: pyparsing in /usr/local/lib/python3.7/dist-packages (from pgmpy) (2.4.7)\n",
            "Requirement already satisfied: tqdm in /usr/local/lib/python3.7/dist-packages (from pgmpy) (4.41.1)\n",
            "Requirement already satisfied: numpy in /usr/local/lib/python3.7/dist-packages (from pgmpy) (1.19.5)\n",
            "Requirement already satisfied: statsmodels in /usr/local/lib/python3.7/dist-packages (from pgmpy) (0.10.2)\n",
            "Requirement already satisfied: networkx in /usr/local/lib/python3.7/dist-packages (from pgmpy) (2.5.1)\n",
            "Requirement already satisfied: typing-extensions in /usr/local/lib/python3.7/dist-packages (from torch->pgmpy) (3.7.4.3)\n",
            "Requirement already satisfied: python-dateutil>=2.7.3 in /usr/local/lib/python3.7/dist-packages (from pandas->pgmpy) (2.8.1)\n",
            "Requirement already satisfied: pytz>=2017.2 in /usr/local/lib/python3.7/dist-packages (from pandas->pgmpy) (2018.9)\n",
            "Requirement already satisfied: patsy>=0.4.0 in /usr/local/lib/python3.7/dist-packages (from statsmodels->pgmpy) (0.5.1)\n",
            "Requirement already satisfied: decorator<5,>=4.3 in /usr/local/lib/python3.7/dist-packages (from networkx->pgmpy) (4.4.2)\n",
            "Requirement already satisfied: six>=1.5 in /usr/local/lib/python3.7/dist-packages (from python-dateutil>=2.7.3->pandas->pgmpy) (1.15.0)\n"
          ],
          "name": "stdout"
        }
      ]
    },
    {
      "cell_type": "code",
      "metadata": {
        "id": "Fvm_gZiKImN-"
      },
      "source": [
        "pd.options.mode.chained_assignment = None  # default='warn'\n",
        "# Data of top 50 songs \n",
        "X = np.loadtxt('top50.txt', delimiter=',',dtype=str)\n",
        "\n",
        "  \n",
        "# Convert in dataframe\n",
        "df = pd.DataFrame(X, columns=[\"Position\",\"Track.Name\",\"Artist.Name\",\"Genre\",\n",
        "                              \"BPM\",\"Energy\",\"Danceability\",\"Loudness\",\n",
        "                              \"Liveness\",\"Valence.\",\"Length\",\"Acousticness..\",\n",
        "                              \"Speechiness.\",\"Popularity\"]) \n",
        "# drop\n",
        "df = df.drop(['Track.Name'],axis=1)\n",
        "df = df.drop(['Artist.Name'],axis=1)\n",
        "df = df.drop(['Danceability'],axis=1)\n",
        "df = df.drop(['Liveness'],axis=1)\n",
        "df = df.drop(['Valence.'],axis=1)\n",
        "df = df.drop(['Acousticness..'],axis=1)\n",
        "df = df.drop(['Speechiness.'],axis=1)\n",
        "\n",
        "\n",
        "df_gen = pd.read_csv('data.csv')\n",
        "\n",
        "for i in range(1,21):\n",
        "  df_gen = df_gen.drop(['mfcc{}'.format(i)],axis=1)\n",
        "\n",
        "df_gen = df_gen.drop(['tempo'],axis=1)\n",
        "df_gen = df_gen.drop(['beats'],axis=1)\n",
        "df_gen = df_gen.drop(['chroma_stft'],axis=1)\n",
        "df_gen = df_gen.drop(['rmse'],axis=1)\n",
        "df_gen = df_gen.drop(['spectral_centroid'],axis=1)\n",
        "df_gen = df_gen.drop(['rolloff'],axis=1)\n",
        "df_gen = df_gen.drop(['zero_crossing_rate'],axis=1)\n",
        "df_gen = df_gen.drop(['filename'],axis=1)\n",
        "\n",
        "df = df.dropna()\n",
        "df_gen = df_gen.dropna()\n",
        "df = df.replace({'\"':''}, regex=True)"
      ],
      "execution_count": null,
      "outputs": []
    },
    {
      "cell_type": "code",
      "metadata": {
        "id": "-btuMzDk7TLU",
        "colab": {
          "base_uri": "https://localhost:8080/"
        },
        "outputId": "34b20536-d0e9-4379-cbc7-d72594dd3cff"
      },
      "source": [
        "df_gen.head()\n",
        "df_gen = df_gen[~df_gen['label'].astype('str').str.contains('classical')] \n",
        "df_gen = df_gen[~df_gen['label'].astype('str').str.contains('country')] \n",
        "df_gen = df_gen[~df_gen['label'].astype('str').str.contains('disco')]\n",
        "df_gen['label'].unique()"
      ],
      "execution_count": null,
      "outputs": [
        {
          "output_type": "execute_result",
          "data": {
            "text/plain": [
              "array(['room', 'hiphop', 'rap', 'pop', 'reggaeton'], dtype=object)"
            ]
          },
          "metadata": {
            "tags": []
          },
          "execution_count": 84
        }
      ]
    },
    {
      "cell_type": "code",
      "metadata": {
        "id": "gLiCY6LnSZFb"
      },
      "source": [
        "# Compact Genres in macrocategories\n",
        "for i in range(0,50):\n",
        "  if 'pop' in df['Genre'][i] or 'brostep' in df['Genre'][i]:\n",
        "    df['Genre'][i]='pop'\n",
        "  elif 'rap' in df['Genre'][i] or 'trap' in df['Genre'][i]:\n",
        "    df['Genre'][i]='rap'\n",
        "  elif 'edm' in df['Genre'][i] or 'room' in df['Genre'][i]:\n",
        "    df['Genre'][i]='room'\n",
        "  elif 'latin' in df['Genre'][i] or 'r&b en espanol' in df['Genre'][i] or 'reggaeton flow' in df['Genre'][i]:\n",
        "    df['Genre'][i]='reggaeton'\n",
        "  elif 'hip hop' in df['Genre'][i] or 'boy band' in df['Genre'][i]:\n",
        "    df['Genre'][i]='hip hop'"
      ],
      "execution_count": null,
      "outputs": []
    },
    {
      "cell_type": "code",
      "metadata": {
        "id": "CeojEmI7DLH6"
      },
      "source": [
        "def mean_gen(label_str):\n",
        "  count, counter = 0,0\n",
        "  for i in range(0,df_gen.shape[0]-1):\n",
        "    if df_gen['label'].iloc[i] == label_str:\n",
        "      count = count + 1\n",
        "      counter = counter + df_gen['spectral_bandwidth'].iloc[i]\n",
        "  mean = counter / count\n",
        "  return mean\n",
        "\n",
        "mean_room = mean_gen('room')\n",
        "mean_pop = mean_gen('pop')\n",
        "mean_hh = mean_gen('hiphop')\n",
        "mean_rap = mean_gen('rap')\n",
        "mean_reggaeton = mean_gen('reggaeton')"
      ],
      "execution_count": null,
      "outputs": []
    },
    {
      "cell_type": "code",
      "metadata": {
        "id": "P60bH0ZDnaEd"
      },
      "source": [
        "df['band_width'] = pd.Series(np.random.randn(len(df['Genre'])), index=df.index)"
      ],
      "execution_count": null,
      "outputs": []
    },
    {
      "cell_type": "code",
      "metadata": {
        "id": "GDutiE-noaC0"
      },
      "source": [
        "for i in range(0,50):\n",
        "  if df['Genre'].iloc[i] == 'room':\n",
        "    df['band_width'][i] = mean_room + random.randrange(-300, 300, 1)\n",
        "  if df['Genre'].iloc[i] == 'pop':\n",
        "    df['band_width'][i] = mean_pop + random.randrange(-300, 300, 1)\n",
        "  if df['Genre'].iloc[i] == 'hiphop':\n",
        "    df['band_width'][i] = mean_hh + random.randrange(-300, 300, 1)\n",
        "  if df['Genre'].iloc[i] == 'rap':\n",
        "    df['band_width'][i] = mean_rap + random.randrange(-300, 300, 1)\n",
        "  if df['Genre'].iloc[i] == 'reggaeton':\n",
        "    df['band_width'][i] = mean_reggaeton + random.randrange(-300, 300, 1)"
      ],
      "execution_count": null,
      "outputs": []
    },
    {
      "cell_type": "code",
      "metadata": {
        "id": "SD8nmQj3rpxL"
      },
      "source": [
        "# Set the bandwitdh \n",
        "for i in range(0,50):\n",
        "  if df['band_width'].iloc[i] > 2400:\n",
        "    df['band_width'][i] = 'high'\n",
        "  else:\n",
        "    df['band_width'][i] = 'low'"
      ],
      "execution_count": null,
      "outputs": []
    },
    {
      "cell_type": "code",
      "metadata": {
        "id": "od7QFIj_JiZQ"
      },
      "source": [
        "# cast \n",
        "df['Position'] = pd.to_numeric(df['Position'])\n",
        "df['BPM'] = pd.to_numeric(df['BPM'])\n",
        "df['Energy'] = pd.to_numeric(df['Energy'])\n",
        "df['Loudness'] = pd.to_numeric(df['Loudness'])\n",
        "df['Length'] = pd.to_numeric(df['Length'])\n",
        "df['Popularity'] = pd.to_numeric(df['Popularity'])"
      ],
      "execution_count": null,
      "outputs": []
    },
    {
      "cell_type": "code",
      "metadata": {
        "id": "N-6h5S5v9nIy"
      },
      "source": [
        "bpm_mean = df['BPM'].mean()\n",
        "energy_mean = df['Energy'].mean()\n",
        "loud_mean = df['Loudness'].mean()\n",
        "len_mean = df['Length'].mean()\n",
        "pop_mean = df['Popularity'].mean()\n",
        "pos_len = len(df['Position'])"
      ],
      "execution_count": null,
      "outputs": []
    },
    {
      "cell_type": "code",
      "metadata": {
        "id": "zxKwhDzCnd3d"
      },
      "source": [
        "# Set values by a treshold\n",
        "for i in range(0,50):\n",
        "\n",
        "  if (df['BPM'][i] > bpm_mean):\n",
        "    df['BPM'][i] = 'high'\n",
        "  else:\n",
        "    df['BPM'][i] = 'low'\n",
        "\n",
        "  if (df['Energy'][i]>  energy_mean):\n",
        "    df['Energy'][i] = 'high'\n",
        "  else:\n",
        "    df['Energy'][i] = 'low'\n",
        "\n",
        "  if (df['Loudness'][i]>  loud_mean):\n",
        "    df['Loudness'][i] = 'high'\n",
        "  else:\n",
        "    df['Loudness'][i] = 'low'\n",
        "\n",
        "  if (df['Length'][i]> len_mean):\n",
        "    df['Length'][i] = 'high'\n",
        "  else:\n",
        "    df['Length'][i] = 'low'\n",
        "\n",
        "  if (df['Popularity'][i]> pop_mean):\n",
        "    df['Popularity'][i] = 'high'\n",
        "  else:\n",
        "    df['Popularity'][i] = 'low'\n",
        "\n",
        "  if (df['Position'][i]< pos_len/3 ):\n",
        "    df['Position'][i] = 'high'\n",
        "  elif (df['Position'][i]> 2* pos_len/3 ):\n",
        "    df['Position'][i] = 'low'\n",
        "  else:\n",
        "    df['Position'][i] = 'medium'"
      ],
      "execution_count": null,
      "outputs": []
    },
    {
      "cell_type": "code",
      "metadata": {
        "colab": {
          "base_uri": "https://localhost:8080/",
          "height": 1000
        },
        "id": "zJbm-_dv6cyc",
        "outputId": "c7e48add-bf4d-4f7e-be14-274cd632531b"
      },
      "source": [
        "df.head(50)"
      ],
      "execution_count": null,
      "outputs": [
        {
          "output_type": "execute_result",
          "data": {
            "text/html": [
              "<div>\n",
              "<style scoped>\n",
              "    .dataframe tbody tr th:only-of-type {\n",
              "        vertical-align: middle;\n",
              "    }\n",
              "\n",
              "    .dataframe tbody tr th {\n",
              "        vertical-align: top;\n",
              "    }\n",
              "\n",
              "    .dataframe thead th {\n",
              "        text-align: right;\n",
              "    }\n",
              "</style>\n",
              "<table border=\"1\" class=\"dataframe\">\n",
              "  <thead>\n",
              "    <tr style=\"text-align: right;\">\n",
              "      <th></th>\n",
              "      <th>Position</th>\n",
              "      <th>Genre</th>\n",
              "      <th>BPM</th>\n",
              "      <th>Energy</th>\n",
              "      <th>Loudness</th>\n",
              "      <th>Length</th>\n",
              "      <th>Popularity</th>\n",
              "      <th>band_width</th>\n",
              "    </tr>\n",
              "  </thead>\n",
              "  <tbody>\n",
              "    <tr>\n",
              "      <th>0</th>\n",
              "      <td>high</td>\n",
              "      <td>pop</td>\n",
              "      <td>low</td>\n",
              "      <td>low</td>\n",
              "      <td>low</td>\n",
              "      <td>low</td>\n",
              "      <td>low</td>\n",
              "      <td>high</td>\n",
              "    </tr>\n",
              "    <tr>\n",
              "      <th>1</th>\n",
              "      <td>high</td>\n",
              "      <td>reggaeton</td>\n",
              "      <td>low</td>\n",
              "      <td>high</td>\n",
              "      <td>high</td>\n",
              "      <td>high</td>\n",
              "      <td>high</td>\n",
              "      <td>low</td>\n",
              "    </tr>\n",
              "    <tr>\n",
              "      <th>2</th>\n",
              "      <td>high</td>\n",
              "      <td>pop</td>\n",
              "      <td>high</td>\n",
              "      <td>high</td>\n",
              "      <td>high</td>\n",
              "      <td>low</td>\n",
              "      <td>low</td>\n",
              "      <td>high</td>\n",
              "    </tr>\n",
              "    <tr>\n",
              "      <th>3</th>\n",
              "      <td>high</td>\n",
              "      <td>pop</td>\n",
              "      <td>low</td>\n",
              "      <td>high</td>\n",
              "      <td>low</td>\n",
              "      <td>low</td>\n",
              "      <td>low</td>\n",
              "      <td>high</td>\n",
              "    </tr>\n",
              "    <tr>\n",
              "      <th>4</th>\n",
              "      <td>high</td>\n",
              "      <td>rap</td>\n",
              "      <td>high</td>\n",
              "      <td>high</td>\n",
              "      <td>high</td>\n",
              "      <td>low</td>\n",
              "      <td>high</td>\n",
              "      <td>low</td>\n",
              "    </tr>\n",
              "    <tr>\n",
              "      <th>5</th>\n",
              "      <td>high</td>\n",
              "      <td>pop</td>\n",
              "      <td>low</td>\n",
              "      <td>high</td>\n",
              "      <td>high</td>\n",
              "      <td>high</td>\n",
              "      <td>low</td>\n",
              "      <td>high</td>\n",
              "    </tr>\n",
              "    <tr>\n",
              "      <th>6</th>\n",
              "      <td>high</td>\n",
              "      <td>rap</td>\n",
              "      <td>high</td>\n",
              "      <td>low</td>\n",
              "      <td>low</td>\n",
              "      <td>low</td>\n",
              "      <td>high</td>\n",
              "      <td>low</td>\n",
              "    </tr>\n",
              "    <tr>\n",
              "      <th>7</th>\n",
              "      <td>high</td>\n",
              "      <td>pop</td>\n",
              "      <td>low</td>\n",
              "      <td>high</td>\n",
              "      <td>high</td>\n",
              "      <td>high</td>\n",
              "      <td>high</td>\n",
              "      <td>high</td>\n",
              "    </tr>\n",
              "    <tr>\n",
              "      <th>8</th>\n",
              "      <td>high</td>\n",
              "      <td>rap</td>\n",
              "      <td>high</td>\n",
              "      <td>low</td>\n",
              "      <td>low</td>\n",
              "      <td>low</td>\n",
              "      <td>low</td>\n",
              "      <td>low</td>\n",
              "    </tr>\n",
              "    <tr>\n",
              "      <th>9</th>\n",
              "      <td>high</td>\n",
              "      <td>pop</td>\n",
              "      <td>high</td>\n",
              "      <td>low</td>\n",
              "      <td>low</td>\n",
              "      <td>low</td>\n",
              "      <td>high</td>\n",
              "      <td>high</td>\n",
              "    </tr>\n",
              "    <tr>\n",
              "      <th>10</th>\n",
              "      <td>high</td>\n",
              "      <td>reggaeton</td>\n",
              "      <td>high</td>\n",
              "      <td>low</td>\n",
              "      <td>high</td>\n",
              "      <td>high</td>\n",
              "      <td>high</td>\n",
              "      <td>high</td>\n",
              "    </tr>\n",
              "    <tr>\n",
              "      <th>11</th>\n",
              "      <td>high</td>\n",
              "      <td>pop</td>\n",
              "      <td>low</td>\n",
              "      <td>high</td>\n",
              "      <td>high</td>\n",
              "      <td>low</td>\n",
              "      <td>low</td>\n",
              "      <td>high</td>\n",
              "    </tr>\n",
              "    <tr>\n",
              "      <th>12</th>\n",
              "      <td>high</td>\n",
              "      <td>pop</td>\n",
              "      <td>low</td>\n",
              "      <td>low</td>\n",
              "      <td>low</td>\n",
              "      <td>low</td>\n",
              "      <td>high</td>\n",
              "      <td>high</td>\n",
              "    </tr>\n",
              "    <tr>\n",
              "      <th>13</th>\n",
              "      <td>high</td>\n",
              "      <td>pop</td>\n",
              "      <td>high</td>\n",
              "      <td>high</td>\n",
              "      <td>high</td>\n",
              "      <td>high</td>\n",
              "      <td>low</td>\n",
              "      <td>high</td>\n",
              "    </tr>\n",
              "    <tr>\n",
              "      <th>14</th>\n",
              "      <td>high</td>\n",
              "      <td>hip hop</td>\n",
              "      <td>low</td>\n",
              "      <td>low</td>\n",
              "      <td>high</td>\n",
              "      <td>high</td>\n",
              "      <td>high</td>\n",
              "      <td>low</td>\n",
              "    </tr>\n",
              "    <tr>\n",
              "      <th>15</th>\n",
              "      <td>high</td>\n",
              "      <td>pop</td>\n",
              "      <td>low</td>\n",
              "      <td>low</td>\n",
              "      <td>low</td>\n",
              "      <td>high</td>\n",
              "      <td>low</td>\n",
              "      <td>high</td>\n",
              "    </tr>\n",
              "    <tr>\n",
              "      <th>16</th>\n",
              "      <td>medium</td>\n",
              "      <td>reggaeton</td>\n",
              "      <td>high</td>\n",
              "      <td>high</td>\n",
              "      <td>low</td>\n",
              "      <td>high</td>\n",
              "      <td>high</td>\n",
              "      <td>low</td>\n",
              "    </tr>\n",
              "    <tr>\n",
              "      <th>17</th>\n",
              "      <td>medium</td>\n",
              "      <td>rap</td>\n",
              "      <td>low</td>\n",
              "      <td>low</td>\n",
              "      <td>low</td>\n",
              "      <td>low</td>\n",
              "      <td>high</td>\n",
              "      <td>low</td>\n",
              "    </tr>\n",
              "    <tr>\n",
              "      <th>18</th>\n",
              "      <td>medium</td>\n",
              "      <td>hip hop</td>\n",
              "      <td>high</td>\n",
              "      <td>low</td>\n",
              "      <td>low</td>\n",
              "      <td>low</td>\n",
              "      <td>high</td>\n",
              "      <td>low</td>\n",
              "    </tr>\n",
              "    <tr>\n",
              "      <th>19</th>\n",
              "      <td>medium</td>\n",
              "      <td>room</td>\n",
              "      <td>high</td>\n",
              "      <td>low</td>\n",
              "      <td>high</td>\n",
              "      <td>low</td>\n",
              "      <td>high</td>\n",
              "      <td>low</td>\n",
              "    </tr>\n",
              "    <tr>\n",
              "      <th>20</th>\n",
              "      <td>medium</td>\n",
              "      <td>pop</td>\n",
              "      <td>high</td>\n",
              "      <td>high</td>\n",
              "      <td>low</td>\n",
              "      <td>low</td>\n",
              "      <td>high</td>\n",
              "      <td>high</td>\n",
              "    </tr>\n",
              "    <tr>\n",
              "      <th>21</th>\n",
              "      <td>medium</td>\n",
              "      <td>rap</td>\n",
              "      <td>high</td>\n",
              "      <td>low</td>\n",
              "      <td>low</td>\n",
              "      <td>low</td>\n",
              "      <td>high</td>\n",
              "      <td>low</td>\n",
              "    </tr>\n",
              "    <tr>\n",
              "      <th>22</th>\n",
              "      <td>medium</td>\n",
              "      <td>reggaeton</td>\n",
              "      <td>low</td>\n",
              "      <td>high</td>\n",
              "      <td>high</td>\n",
              "      <td>high</td>\n",
              "      <td>low</td>\n",
              "      <td>high</td>\n",
              "    </tr>\n",
              "    <tr>\n",
              "      <th>23</th>\n",
              "      <td>medium</td>\n",
              "      <td>reggaeton</td>\n",
              "      <td>low</td>\n",
              "      <td>high</td>\n",
              "      <td>high</td>\n",
              "      <td>high</td>\n",
              "      <td>high</td>\n",
              "      <td>low</td>\n",
              "    </tr>\n",
              "    <tr>\n",
              "      <th>24</th>\n",
              "      <td>medium</td>\n",
              "      <td>pop</td>\n",
              "      <td>high</td>\n",
              "      <td>low</td>\n",
              "      <td>low</td>\n",
              "      <td>low</td>\n",
              "      <td>high</td>\n",
              "      <td>high</td>\n",
              "    </tr>\n",
              "    <tr>\n",
              "      <th>25</th>\n",
              "      <td>medium</td>\n",
              "      <td>pop</td>\n",
              "      <td>high</td>\n",
              "      <td>high</td>\n",
              "      <td>high</td>\n",
              "      <td>low</td>\n",
              "      <td>low</td>\n",
              "      <td>high</td>\n",
              "    </tr>\n",
              "    <tr>\n",
              "      <th>26</th>\n",
              "      <td>medium</td>\n",
              "      <td>pop</td>\n",
              "      <td>low</td>\n",
              "      <td>low</td>\n",
              "      <td>low</td>\n",
              "      <td>high</td>\n",
              "      <td>low</td>\n",
              "      <td>high</td>\n",
              "    </tr>\n",
              "    <tr>\n",
              "      <th>27</th>\n",
              "      <td>medium</td>\n",
              "      <td>hip hop</td>\n",
              "      <td>low</td>\n",
              "      <td>low</td>\n",
              "      <td>low</td>\n",
              "      <td>high</td>\n",
              "      <td>high</td>\n",
              "      <td>low</td>\n",
              "    </tr>\n",
              "    <tr>\n",
              "      <th>28</th>\n",
              "      <td>medium</td>\n",
              "      <td>reggaeton</td>\n",
              "      <td>low</td>\n",
              "      <td>high</td>\n",
              "      <td>high</td>\n",
              "      <td>low</td>\n",
              "      <td>high</td>\n",
              "      <td>low</td>\n",
              "    </tr>\n",
              "    <tr>\n",
              "      <th>29</th>\n",
              "      <td>medium</td>\n",
              "      <td>reggaeton</td>\n",
              "      <td>low</td>\n",
              "      <td>high</td>\n",
              "      <td>high</td>\n",
              "      <td>high</td>\n",
              "      <td>high</td>\n",
              "      <td>low</td>\n",
              "    </tr>\n",
              "    <tr>\n",
              "      <th>30</th>\n",
              "      <td>medium</td>\n",
              "      <td>room</td>\n",
              "      <td>low</td>\n",
              "      <td>low</td>\n",
              "      <td>low</td>\n",
              "      <td>high</td>\n",
              "      <td>low</td>\n",
              "      <td>low</td>\n",
              "    </tr>\n",
              "    <tr>\n",
              "      <th>31</th>\n",
              "      <td>medium</td>\n",
              "      <td>pop</td>\n",
              "      <td>high</td>\n",
              "      <td>low</td>\n",
              "      <td>low</td>\n",
              "      <td>low</td>\n",
              "      <td>high</td>\n",
              "      <td>high</td>\n",
              "    </tr>\n",
              "    <tr>\n",
              "      <th>32</th>\n",
              "      <td>medium</td>\n",
              "      <td>reggaeton</td>\n",
              "      <td>low</td>\n",
              "      <td>high</td>\n",
              "      <td>high</td>\n",
              "      <td>low</td>\n",
              "      <td>high</td>\n",
              "      <td>low</td>\n",
              "    </tr>\n",
              "    <tr>\n",
              "      <th>33</th>\n",
              "      <td>low</td>\n",
              "      <td>hip hop</td>\n",
              "      <td>low</td>\n",
              "      <td>low</td>\n",
              "      <td>low</td>\n",
              "      <td>low</td>\n",
              "      <td>high</td>\n",
              "      <td>low</td>\n",
              "    </tr>\n",
              "    <tr>\n",
              "      <th>34</th>\n",
              "      <td>low</td>\n",
              "      <td>pop</td>\n",
              "      <td>low</td>\n",
              "      <td>high</td>\n",
              "      <td>high</td>\n",
              "      <td>high</td>\n",
              "      <td>high</td>\n",
              "      <td>high</td>\n",
              "    </tr>\n",
              "    <tr>\n",
              "      <th>35</th>\n",
              "      <td>low</td>\n",
              "      <td>room</td>\n",
              "      <td>low</td>\n",
              "      <td>high</td>\n",
              "      <td>low</td>\n",
              "      <td>low</td>\n",
              "      <td>high</td>\n",
              "      <td>low</td>\n",
              "    </tr>\n",
              "    <tr>\n",
              "      <th>36</th>\n",
              "      <td>low</td>\n",
              "      <td>pop</td>\n",
              "      <td>high</td>\n",
              "      <td>high</td>\n",
              "      <td>high</td>\n",
              "      <td>high</td>\n",
              "      <td>high</td>\n",
              "      <td>high</td>\n",
              "    </tr>\n",
              "    <tr>\n",
              "      <th>37</th>\n",
              "      <td>low</td>\n",
              "      <td>pop</td>\n",
              "      <td>high</td>\n",
              "      <td>high</td>\n",
              "      <td>high</td>\n",
              "      <td>low</td>\n",
              "      <td>low</td>\n",
              "      <td>high</td>\n",
              "    </tr>\n",
              "    <tr>\n",
              "      <th>38</th>\n",
              "      <td>low</td>\n",
              "      <td>hip hop</td>\n",
              "      <td>high</td>\n",
              "      <td>high</td>\n",
              "      <td>high</td>\n",
              "      <td>low</td>\n",
              "      <td>low</td>\n",
              "      <td>low</td>\n",
              "    </tr>\n",
              "    <tr>\n",
              "      <th>39</th>\n",
              "      <td>low</td>\n",
              "      <td>pop</td>\n",
              "      <td>high</td>\n",
              "      <td>high</td>\n",
              "      <td>high</td>\n",
              "      <td>low</td>\n",
              "      <td>low</td>\n",
              "      <td>high</td>\n",
              "    </tr>\n",
              "    <tr>\n",
              "      <th>40</th>\n",
              "      <td>low</td>\n",
              "      <td>room</td>\n",
              "      <td>low</td>\n",
              "      <td>high</td>\n",
              "      <td>low</td>\n",
              "      <td>high</td>\n",
              "      <td>high</td>\n",
              "      <td>low</td>\n",
              "    </tr>\n",
              "    <tr>\n",
              "      <th>41</th>\n",
              "      <td>low</td>\n",
              "      <td>pop</td>\n",
              "      <td>low</td>\n",
              "      <td>high</td>\n",
              "      <td>low</td>\n",
              "      <td>low</td>\n",
              "      <td>high</td>\n",
              "      <td>high</td>\n",
              "    </tr>\n",
              "    <tr>\n",
              "      <th>42</th>\n",
              "      <td>low</td>\n",
              "      <td>pop</td>\n",
              "      <td>low</td>\n",
              "      <td>low</td>\n",
              "      <td>low</td>\n",
              "      <td>high</td>\n",
              "      <td>low</td>\n",
              "      <td>high</td>\n",
              "    </tr>\n",
              "    <tr>\n",
              "      <th>43</th>\n",
              "      <td>low</td>\n",
              "      <td>pop</td>\n",
              "      <td>high</td>\n",
              "      <td>low</td>\n",
              "      <td>low</td>\n",
              "      <td>low</td>\n",
              "      <td>low</td>\n",
              "      <td>high</td>\n",
              "    </tr>\n",
              "    <tr>\n",
              "      <th>44</th>\n",
              "      <td>low</td>\n",
              "      <td>reggaeton</td>\n",
              "      <td>low</td>\n",
              "      <td>high</td>\n",
              "      <td>high</td>\n",
              "      <td>low</td>\n",
              "      <td>high</td>\n",
              "      <td>high</td>\n",
              "    </tr>\n",
              "    <tr>\n",
              "      <th>45</th>\n",
              "      <td>low</td>\n",
              "      <td>pop</td>\n",
              "      <td>low</td>\n",
              "      <td>low</td>\n",
              "      <td>high</td>\n",
              "      <td>low</td>\n",
              "      <td>high</td>\n",
              "      <td>high</td>\n",
              "    </tr>\n",
              "    <tr>\n",
              "      <th>46</th>\n",
              "      <td>low</td>\n",
              "      <td>reggaeton</td>\n",
              "      <td>high</td>\n",
              "      <td>high</td>\n",
              "      <td>high</td>\n",
              "      <td>high</td>\n",
              "      <td>high</td>\n",
              "      <td>low</td>\n",
              "    </tr>\n",
              "    <tr>\n",
              "      <th>47</th>\n",
              "      <td>low</td>\n",
              "      <td>pop</td>\n",
              "      <td>low</td>\n",
              "      <td>high</td>\n",
              "      <td>high</td>\n",
              "      <td>high</td>\n",
              "      <td>high</td>\n",
              "      <td>high</td>\n",
              "    </tr>\n",
              "    <tr>\n",
              "      <th>48</th>\n",
              "      <td>low</td>\n",
              "      <td>room</td>\n",
              "      <td>low</td>\n",
              "      <td>high</td>\n",
              "      <td>low</td>\n",
              "      <td>high</td>\n",
              "      <td>high</td>\n",
              "      <td>low</td>\n",
              "    </tr>\n",
              "    <tr>\n",
              "      <th>49</th>\n",
              "      <td>low</td>\n",
              "      <td>pop</td>\n",
              "      <td>low</td>\n",
              "      <td>high</td>\n",
              "      <td>low</td>\n",
              "      <td>high</td>\n",
              "      <td>low</td>\n",
              "      <td>high</td>\n",
              "    </tr>\n",
              "  </tbody>\n",
              "</table>\n",
              "</div>"
            ],
            "text/plain": [
              "   Position      Genre   BPM Energy Loudness Length Popularity band_width\n",
              "0      high        pop   low    low      low    low        low       high\n",
              "1      high  reggaeton   low   high     high   high       high        low\n",
              "2      high        pop  high   high     high    low        low       high\n",
              "3      high        pop   low   high      low    low        low       high\n",
              "4      high        rap  high   high     high    low       high        low\n",
              "5      high        pop   low   high     high   high        low       high\n",
              "6      high        rap  high    low      low    low       high        low\n",
              "7      high        pop   low   high     high   high       high       high\n",
              "8      high        rap  high    low      low    low        low        low\n",
              "9      high        pop  high    low      low    low       high       high\n",
              "10     high  reggaeton  high    low     high   high       high       high\n",
              "11     high        pop   low   high     high    low        low       high\n",
              "12     high        pop   low    low      low    low       high       high\n",
              "13     high        pop  high   high     high   high        low       high\n",
              "14     high    hip hop   low    low     high   high       high        low\n",
              "15     high        pop   low    low      low   high        low       high\n",
              "16   medium  reggaeton  high   high      low   high       high        low\n",
              "17   medium        rap   low    low      low    low       high        low\n",
              "18   medium    hip hop  high    low      low    low       high        low\n",
              "19   medium       room  high    low     high    low       high        low\n",
              "20   medium        pop  high   high      low    low       high       high\n",
              "21   medium        rap  high    low      low    low       high        low\n",
              "22   medium  reggaeton   low   high     high   high        low       high\n",
              "23   medium  reggaeton   low   high     high   high       high        low\n",
              "24   medium        pop  high    low      low    low       high       high\n",
              "25   medium        pop  high   high     high    low        low       high\n",
              "26   medium        pop   low    low      low   high        low       high\n",
              "27   medium    hip hop   low    low      low   high       high        low\n",
              "28   medium  reggaeton   low   high     high    low       high        low\n",
              "29   medium  reggaeton   low   high     high   high       high        low\n",
              "30   medium       room   low    low      low   high        low        low\n",
              "31   medium        pop  high    low      low    low       high       high\n",
              "32   medium  reggaeton   low   high     high    low       high        low\n",
              "33      low    hip hop   low    low      low    low       high        low\n",
              "34      low        pop   low   high     high   high       high       high\n",
              "35      low       room   low   high      low    low       high        low\n",
              "36      low        pop  high   high     high   high       high       high\n",
              "37      low        pop  high   high     high    low        low       high\n",
              "38      low    hip hop  high   high     high    low        low        low\n",
              "39      low        pop  high   high     high    low        low       high\n",
              "40      low       room   low   high      low   high       high        low\n",
              "41      low        pop   low   high      low    low       high       high\n",
              "42      low        pop   low    low      low   high        low       high\n",
              "43      low        pop  high    low      low    low        low       high\n",
              "44      low  reggaeton   low   high     high    low       high       high\n",
              "45      low        pop   low    low     high    low       high       high\n",
              "46      low  reggaeton  high   high     high   high       high        low\n",
              "47      low        pop   low   high     high   high       high       high\n",
              "48      low       room   low   high      low   high       high        low\n",
              "49      low        pop   low   high      low   high        low       high"
            ]
          },
          "metadata": {
            "tags": []
          },
          "execution_count": 93
        }
      ]
    },
    {
      "cell_type": "markdown",
      "metadata": {
        "id": "USnYHoAnEGQC"
      },
      "source": [
        "1.1 Now we have a cleaned and usable Dataset"
      ]
    },
    {
      "cell_type": "markdown",
      "metadata": {
        "id": "iY0zoDCtGvTZ"
      },
      "source": [
        "2.0 Bayesian Network Creation"
      ]
    },
    {
      "cell_type": "code",
      "metadata": {
        "id": "NCedBxF7xH7i",
        "colab": {
          "base_uri": "https://localhost:8080/"
        },
        "outputId": "4d0245e9-d121-435f-a39b-7bd5f1567ea3"
      },
      "source": [
        "# Create the Bayesian Model\n",
        "model = BayesianModel([('band_width', 'Genre'),('BPM', 'Genre'),  \n",
        "                       ('Genre', 'Position'),('Energy', 'Position'),\n",
        "                       ('Loudness', 'Position'),('Length', 'Position'), \n",
        "                       ('Position', 'Popularity')])\n",
        "b_est = BayesianEstimator(model, df)\n",
        "\n",
        "def cdp_estimator(property):\n",
        "  return b_est.estimate_cpd(property, prior_type='BDeu', equivalent_sample_size=50)\n",
        "\n",
        "cpd_band = cdp_estimator('band_width')\n",
        "cpd_bpm = cdp_estimator('BPM')\n",
        "cpd_energy = cdp_estimator('Energy')\n",
        "cpd_loud = cdp_estimator('Loudness')\n",
        "cpd_length = cdp_estimator('Length')\n",
        "cpd_genre = cdp_estimator('Genre')\n",
        "cpd_pos = cdp_estimator('Position')\n",
        "cpd_pop = cdp_estimator('Popularity')\n",
        "\n",
        "#fitting the model in the bayesian net (add cpt's to the model)\n",
        "model.fit(df, estimator=BayesianEstimator)\n",
        "print('Validity of the model: ', model.check_model())"
      ],
      "execution_count": null,
      "outputs": [
        {
          "output_type": "stream",
          "text": [
            "Validity of the model:  True\n"
          ],
          "name": "stdout"
        }
      ]
    },
    {
      "cell_type": "code",
      "metadata": {
        "colab": {
          "base_uri": "https://localhost:8080/"
        },
        "id": "iXjTr9M_Cmg6",
        "outputId": "37cdae99-e7d7-4db4-f83a-7fb5237cffbe"
      },
      "source": [
        "print(cpd_energy)\n",
        "print(cpd_band)\n",
        "print(cpd_bpm)"
      ],
      "execution_count": null,
      "outputs": [
        {
          "output_type": "stream",
          "text": [
            "+--------------+------+\n",
            "| Energy(high) | 0.54 |\n",
            "+--------------+------+\n",
            "| Energy(low)  | 0.46 |\n",
            "+--------------+------+\n",
            "+------------------+------+\n",
            "| band_width(high) | 0.53 |\n",
            "+------------------+------+\n",
            "| band_width(low)  | 0.47 |\n",
            "+------------------+------+\n",
            "+-----------+------+\n",
            "| BPM(high) | 0.46 |\n",
            "+-----------+------+\n",
            "| BPM(low)  | 0.54 |\n",
            "+-----------+------+\n"
          ],
          "name": "stdout"
        }
      ]
    },
    {
      "cell_type": "markdown",
      "metadata": {
        "id": "L52wbl2fG8-e"
      },
      "source": [
        "2.1 Draw The network"
      ]
    },
    {
      "cell_type": "code",
      "metadata": {
        "id": "Bi-jxb1fBl2q",
        "colab": {
          "base_uri": "https://localhost:8080/",
          "height": 575
        },
        "outputId": "11dfd4f9-c2e6-418f-9327-2866ba5d41e4"
      },
      "source": [
        "nodes = list(model.nodes())\n",
        "edges = list(model.edges())\n",
        "\n",
        "DAG = nx.DiGraph()\n",
        "DAG.add_edges_from(edges)\n",
        "fig = plt.figure(figsize = (10,10))\n",
        "pos = nx.spring_layout(DAG) #Position nodes computed by using Fruchterman-Reingold force-directed algorithm.\n",
        "nx.draw_networkx_nodes(DAG, pos=pos, node_color='white', node_size=20)\n",
        "nx.draw_networkx_labels(DAG, pos=pos)\n",
        "nx.draw_networkx_edges(DAG, pos=pos, edge_color='gray', width = 0.5, arrows=True)\n",
        "plt.show()"
      ],
      "execution_count": null,
      "outputs": [
        {
          "output_type": "display_data",
          "data": {
            "image/png": "[encoded data removed]",
            "text/plain": [
              "<Figure size 720x720 with 1 Axes>"
            ]
          },
          "metadata": {
            "tags": []
          }
        }
      ]
    },
    {
      "cell_type": "markdown",
      "metadata": {
        "id": "Abg2syivHBtg"
      },
      "source": [
        "2.2 Queries"
      ]
    },
    {
      "cell_type": "code",
      "metadata": {
        "id": "MSBQOTrOHxoX"
      },
      "source": [
        "exact_inference = VariableElimination(model)"
      ],
      "execution_count": null,
      "outputs": []
    },
    {
      "cell_type": "code",
      "metadata": {
        "id": "YSQ2xUr_9B56",
        "colab": {
          "base_uri": "https://localhost:8080/"
        },
        "outputId": "4137903b-f604-4e03-c992-3f808fdee6bf"
      },
      "source": [
        "print('\\n \\nThe CPT of Position given genre room: ')\n",
        "query1_pos = exact_inference.query(['Position'],{'Genre':'room'})\n",
        "print(query1_pos)"
      ],
      "execution_count": null,
      "outputs": [
        {
          "output_type": "stream",
          "text": [
            "Finding Elimination Order: : 100%|██████████| 6/6 [00:00<00:00, 790.56it/s]\n",
            "Eliminating: Popularity: 100%|██████████| 6/6 [00:00<00:00, 294.65it/s]"
          ],
          "name": "stderr"
        },
        {
          "output_type": "stream",
          "text": [
            "\n",
            " \n",
            "The CPT of Position given genre room: \n",
            "+------------------+-----------------+\n",
            "| Position         |   phi(Position) |\n",
            "+==================+=================+\n",
            "| Position(high)   |          0.1830 |\n",
            "+------------------+-----------------+\n",
            "| Position(low)    |          0.4442 |\n",
            "+------------------+-----------------+\n",
            "| Position(medium) |          0.3729 |\n",
            "+------------------+-----------------+\n"
          ],
          "name": "stdout"
        },
        {
          "output_type": "stream",
          "text": [
            "\n"
          ],
          "name": "stderr"
        }
      ]
    },
    {
      "cell_type": "code",
      "metadata": {
        "id": "kagLkKYv_exT",
        "colab": {
          "base_uri": "https://localhost:8080/"
        },
        "outputId": "f6f40ea7-5786-4c7a-d32c-805cca3a86ec"
      },
      "source": [
        "query2_pos = exact_inference.query(['Position'],{'BPM':'high','Loudness':'low','Genre':'rap'})\n",
        "print('\\n \\nThe CPT of Position given high BPM, low Loudness and rap Genre: ')\n",
        "print(query2_pos)"
      ],
      "execution_count": null,
      "outputs": [
        {
          "output_type": "stream",
          "text": [
            "Finding Elimination Order: : 100%|██████████| 4/4 [00:00<00:00, 1732.83it/s]\n",
            "Eliminating: Popularity: 100%|██████████| 4/4 [00:00<00:00, 197.26it/s]"
          ],
          "name": "stderr"
        },
        {
          "output_type": "stream",
          "text": [
            "\n",
            " \n",
            "The CPT of Position given high BPM, low Loudness and rap Genre: \n",
            "+------------------+-----------------+\n",
            "| Position         |   phi(Position) |\n",
            "+==================+=================+\n",
            "| Position(high)   |          0.3716 |\n",
            "+------------------+-----------------+\n",
            "| Position(low)    |          0.2567 |\n",
            "+------------------+-----------------+\n",
            "| Position(medium) |          0.3716 |\n",
            "+------------------+-----------------+\n"
          ],
          "name": "stdout"
        },
        {
          "output_type": "stream",
          "text": [
            "\n"
          ],
          "name": "stderr"
        }
      ]
    },
    {
      "cell_type": "code",
      "metadata": {
        "id": "5pa1qnUyuHYK",
        "colab": {
          "base_uri": "https://localhost:8080/"
        },
        "outputId": "19da8247-bbb7-4442-fd4e-58299caa0c22"
      },
      "source": [
        "print('\\n \\nThe CPT of Genre given high BPM and low band_windth: ')\n",
        "query1_gen = exact_inference.query(['Genre'],{'BPM':'high','band_width':'low'})\n",
        "print(query1_gen)"
      ],
      "execution_count": null,
      "outputs": [
        {
          "output_type": "stream",
          "text": [
            "Finding Elimination Order: : 100%|██████████| 5/5 [00:00<00:00, 1594.55it/s]\n",
            "Eliminating: Length:   0%|          | 0/5 [00:00<?, ?it/s]"
          ],
          "name": "stderr"
        },
        {
          "output_type": "stream",
          "text": [
            "\n",
            " \n",
            "The CPT of Genre given high BPM and low band_windth: \n"
          ],
          "name": "stdout"
        },
        {
          "output_type": "stream",
          "text": [
            "Eliminating: Popularity: 100%|██████████| 5/5 [00:00<00:00, 167.37it/s]"
          ],
          "name": "stderr"
        },
        {
          "output_type": "stream",
          "text": [
            "+------------------+--------------+\n",
            "| Genre            |   phi(Genre) |\n",
            "+==================+==============+\n",
            "| Genre(hip hop)   |       0.2195 |\n",
            "+------------------+--------------+\n",
            "| Genre(pop)       |       0.0244 |\n",
            "+------------------+--------------+\n",
            "| Genre(rap)       |       0.4146 |\n",
            "+------------------+--------------+\n",
            "| Genre(reggaeton) |       0.2195 |\n",
            "+------------------+--------------+\n",
            "| Genre(room)      |       0.1220 |\n",
            "+------------------+--------------+\n"
          ],
          "name": "stdout"
        },
        {
          "output_type": "stream",
          "text": [
            "\n"
          ],
          "name": "stderr"
        }
      ]
    },
    {
      "cell_type": "code",
      "metadata": {
        "id": "2qkl_0xCJZax",
        "colab": {
          "base_uri": "https://localhost:8080/"
        },
        "outputId": "cadb7a23-f585-487f-a46b-a0315e66ae49"
      },
      "source": [
        "print('\\n \\nThe CPT of Genre given high BPM and low band_windth: ')\n",
        "query1_gen = exact_inference.query(['Genre'],{'BPM':'high','band_width':'high'})\n",
        "print(query1_gen)"
      ],
      "execution_count": null,
      "outputs": [
        {
          "output_type": "stream",
          "text": [
            "Finding Elimination Order: : 100%|██████████| 5/5 [00:00<00:00, 788.79it/s]\n",
            "Eliminating: Popularity: 100%|██████████| 5/5 [00:00<00:00, 206.25it/s]"
          ],
          "name": "stderr"
        },
        {
          "output_type": "stream",
          "text": [
            "\n",
            " \n",
            "The CPT of Genre given high BPM and low band_windth: \n",
            "+------------------+--------------+\n",
            "| Genre            |   phi(Genre) |\n",
            "+==================+==============+\n",
            "| Genre(hip hop)   |       0.0189 |\n",
            "+------------------+--------------+\n",
            "| Genre(pop)       |       0.8491 |\n",
            "+------------------+--------------+\n",
            "| Genre(rap)       |       0.0189 |\n",
            "+------------------+--------------+\n",
            "| Genre(reggaeton) |       0.0943 |\n",
            "+------------------+--------------+\n",
            "| Genre(room)      |       0.0189 |\n",
            "+------------------+--------------+\n"
          ],
          "name": "stdout"
        },
        {
          "output_type": "stream",
          "text": [
            "\n"
          ],
          "name": "stderr"
        }
      ]
    },
    {
      "cell_type": "markdown",
      "metadata": {
        "id": "D0sLvmD2Ksyc"
      },
      "source": [
        "2.3 Check Indipendencies"
      ]
    },
    {
      "cell_type": "code",
      "metadata": {
        "id": "WMPolFtfujRW",
        "colab": {
          "base_uri": "https://localhost:8080/"
        },
        "outputId": "d1f62d2b-7b1f-4747-a1c7-674459b9e25d"
      },
      "source": [
        "print('\\n \\nThe CPT of Popularity given high Position and pop Genre: ')\n",
        "query4 = exact_inference.query(['Popularity'],{'Position':'medium','Genre':'pop'})\n",
        "print(query4)\n",
        "print('\\n \\nThe CPT of Popularity given only high Position: ')\n",
        "query5 = exact_inference.query(['Popularity'],{'Position':'medium'})\n",
        "print(query5)\n",
        "print('\\n \\nIndipendency btw Popularity and Genre is checked because CPTs are equal. ')\n"
      ],
      "execution_count": null,
      "outputs": [
        {
          "output_type": "stream",
          "text": [
            "Finding Elimination Order: : 100%|██████████| 5/5 [00:00<00:00, 609.46it/s]\n",
            "Eliminating: Loudness: 100%|██████████| 5/5 [00:00<00:00, 358.45it/s]\n",
            "Finding Elimination Order: : 100%|██████████| 6/6 [00:00<00:00, 682.72it/s]\n",
            "Eliminating: Loudness: 100%|██████████| 6/6 [00:00<00:00, 203.42it/s]"
          ],
          "name": "stderr"
        },
        {
          "output_type": "stream",
          "text": [
            "\n",
            " \n",
            "The CPT of Popularity given high Position and pop Genre: \n",
            "+------------------+-------------------+\n",
            "| Popularity       |   phi(Popularity) |\n",
            "+==================+===================+\n",
            "| Popularity(high) |            0.7411 |\n",
            "+------------------+-------------------+\n",
            "| Popularity(low)  |            0.2589 |\n",
            "+------------------+-------------------+\n",
            "\n",
            " \n",
            "The CPT of Popularity given only high Position: \n",
            "+------------------+-------------------+\n",
            "| Popularity       |   phi(Popularity) |\n",
            "+==================+===================+\n",
            "| Popularity(high) |            0.7411 |\n",
            "+------------------+-------------------+\n",
            "| Popularity(low)  |            0.2589 |\n",
            "+------------------+-------------------+\n",
            "\n",
            " \n",
            "Indipendency btw Popularity and Genre is checked because CPTs are equal. \n"
          ],
          "name": "stdout"
        },
        {
          "output_type": "stream",
          "text": [
            "\n"
          ],
          "name": "stderr"
        }
      ]
    }
  ]
}